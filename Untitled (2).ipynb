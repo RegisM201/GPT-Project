{
 "cells": [
  {
   "cell_type": "code",
   "execution_count": null,
   "id": "9417cae8-a604-45a4-a58b-d9a41b7b4e49",
   "metadata": {
    "scrolled": true
   },
   "outputs": [],
   "source": [
    "pip install numpy"
   ]
  },
  {
   "cell_type": "code",
   "execution_count": null,
   "id": "af377f06-ec34-402d-bb09-87a30660aa75",
   "metadata": {},
   "outputs": [],
   "source": [
    "pip install pandas"
   ]
  },
  {
   "cell_type": "code",
   "execution_count": null,
   "id": "13eb6267-e570-4b62-b9ac-3ecee0bdb596",
   "metadata": {
    "scrolled": true
   },
   "outputs": [],
   "source": [
    "pip install torch"
   ]
  },
  {
   "cell_type": "code",
   "execution_count": null,
   "id": "c8b186ef-9965-45b8-966e-c8f37470ceb0",
   "metadata": {
    "scrolled": true
   },
   "outputs": [],
   "source": [
    "pip install transformers"
   ]
  },
  {
   "cell_type": "code",
   "execution_count": null,
   "id": "f592fc1d-a4b1-418b-a08d-6ba21a2de13f",
   "metadata": {
    "scrolled": true
   },
   "outputs": [],
   "source": [
    "pip install openai"
   ]
  },
  {
   "cell_type": "code",
   "execution_count": null,
   "id": "a47e5da7-70b9-4b5b-bfd7-a6abf50434ff",
   "metadata": {
    "scrolled": true
   },
   "outputs": [],
   "source": [
    "pip install datasets"
   ]
  },
  {
   "cell_type": "code",
   "execution_count": null,
   "id": "c7756650-1be5-4836-915a-eabaddf95dba",
   "metadata": {},
   "outputs": [],
   "source": [
    "pip install peft"
   ]
  },
  {
   "cell_type": "code",
   "execution_count": null,
   "id": "6b252079-983e-4e1c-abbf-d5bac09faf52",
   "metadata": {},
   "outputs": [],
   "source": [
    "pip install transformers huggingface-hub"
   ]
  },
  {
   "cell_type": "code",
   "execution_count": null,
   "id": "bdb58f9f-dfb4-4a2d-91fa-3ae4e4f36195",
   "metadata": {},
   "outputs": [],
   "source": [
    "pip install torch torchvision torchaudio --index-url https://download.pytorch.org/whl/cu121\n"
   ]
  },
  {
   "cell_type": "code",
   "execution_count": null,
   "id": "edd1539d-14a1-4c89-84b0-0f2dcfea404d",
   "metadata": {},
   "outputs": [],
   "source": [
    "import torch\n",
    "\n"
   ]
  },
  {
   "cell_type": "code",
   "execution_count": null,
   "id": "98a2a3b8-5731-45fd-8339-3b371dca90ac",
   "metadata": {},
   "outputs": [],
   "source": [
    "#Importing Model "
   ]
  },
  {
   "cell_type": "code",
   "execution_count": null,
   "id": "57083cbf-cf2b-4cac-a2b7-01f09c313083",
   "metadata": {},
   "outputs": [],
   "source": []
  },
  {
   "cell_type": "code",
   "execution_count": null,
   "id": "af435eb2-4c8b-4703-8387-d2ed801b098e",
   "metadata": {},
   "outputs": [],
   "source": [
    "from transformers import AutoModelForCausalLM, AutoTokenizer \n",
    "\n",
    "#loading gemma 2B model and tokenizer \n",
    "model_name = \"google/gemma-2b\"\n",
    "tokenizer = AutoTokenizer.from_pretrained(model_name)\n",
    "\n",
    "model = AutoModelForCausalLM.from_pretrained(model_name, device_map = \"auto\", torch_dtype = \"auto\")\n",
    "\n"
   ]
  },
  {
   "cell_type": "code",
   "execution_count": null,
   "id": "ef5b3dd7-d99b-4fc7-a981-7281b32dd0f5",
   "metadata": {},
   "outputs": [],
   "source": [
    "import torch\n",
    "model_name = \"google/gemma-2b\"\n",
    "\n",
    "# Load the model and tokenizer\n",
    "#tokenizer = AutoTokenizer.from_pretrained(model_name)\n",
    "#model = AutoModelForCausalLM.from_pretrained(model_name, device_map=\"cpu\", torch_dtype=\"auto\")\n",
    "\n",
    "# Sample question\n",
    "question = \"What are the symptoms of pneumonia?\"\n",
    "\n",
    "# Tokenize input\n",
    "inputs = tokenizer(question, return_tensors=\"pt\").to(\"cpu\")\n",
    "\n",
    "# Inference\n",
    "with torch.no_grad():\n",
    "    output = model.generate(**inputs, max_length=300, do_sample = True, temperature=0.7, top_p=0.9)\n",
    "\n",
    "# Decode and print the output\n",
    "answer = tokenizer.decode(output[0], skip_special_tokens=True)\n",
    "print(\"Answer:\", answer)"
   ]
  },
  {
   "cell_type": "code",
   "execution_count": null,
   "id": "69537022-5aee-4bb6-89f3-e2670c525b1d",
   "metadata": {},
   "outputs": [],
   "source": []
  },
  {
   "cell_type": "code",
   "execution_count": null,
   "id": "76dcd510-f0ec-422c-b9f7-8f68c1b71566",
   "metadata": {},
   "outputs": [],
   "source": []
  },
  {
   "cell_type": "code",
   "execution_count": null,
   "id": "29ba37e7-8fa3-4f24-bb67-d721e7879ff2",
   "metadata": {},
   "outputs": [],
   "source": [
    "#Loading datasets"
   ]
  },
  {
   "cell_type": "code",
   "execution_count": null,
   "id": "a15e48dd-ec6f-4881-82ed-dd3660347865",
   "metadata": {},
   "outputs": [],
   "source": [
    "import datasets"
   ]
  },
  {
   "cell_type": "code",
   "execution_count": null,
   "id": "97bbabbd-fb43-4f5f-a8f9-4fcca874dd3f",
   "metadata": {},
   "outputs": [],
   "source": [
    "from datasets import load_dataset\n",
    "\n",
    "datasetTrain = load_dataset(\"medmcqa\", split = \"train\")\n",
    "\n",
    "print(datasetTrain)"
   ]
  },
  {
   "cell_type": "code",
   "execution_count": null,
   "id": "5b50e75c-9f2a-4d61-8d62-839700994d4f",
   "metadata": {
    "scrolled": true
   },
   "outputs": [],
   "source": [
    "datasetTest = load_dataset(\"medmcqa\", split = \"test\")\n",
    "\n",
    "print(datasetTest)\n"
   ]
  },
  {
   "cell_type": "code",
   "execution_count": null,
   "id": "2d79557f-2f00-49f2-a144-07bb96012ed5",
   "metadata": {},
   "outputs": [],
   "source": [
    "datasetValidate = load_dataset(\"medmcqa\", split = \"validation\")\n",
    "\n",
    "print(datasetValidate)"
   ]
  },
  {
   "cell_type": "code",
   "execution_count": null,
   "id": "a86a0e4c-65c1-4cfd-8f38-3effa3bd3e2b",
   "metadata": {},
   "outputs": [],
   "source": [
    "#newDataSet = load_dataset(\"json\", data_files = {\"intents.json\"})\n",
    "\n",
    "#dataset_split = newDataSet.train_test_split(test_size = 0.2)\n",
    "\n",
    "#train_dataset = dataset_split[\"train\"]\n",
    "\n",
    "#val_dataset = dataset_split[\"test\"]\n",
    "\n",
    "\n",
    "#print(train_dataset)\n",
    "#print(val_dataset)"
   ]
  },
  {
   "cell_type": "code",
   "execution_count": null,
   "id": "3ff72445-631c-4804-bb8c-b2bcbc656fd5",
   "metadata": {},
   "outputs": [],
   "source": []
  },
  {
   "cell_type": "code",
   "execution_count": null,
   "id": "dc325d0a-e795-465f-966b-850d72194eca",
   "metadata": {},
   "outputs": [],
   "source": []
  },
  {
   "cell_type": "code",
   "execution_count": null,
   "id": "153e4e04-0df5-4d32-8735-9f463fabaf0a",
   "metadata": {},
   "outputs": [],
   "source": [
    "# tokenizing datasets"
   ]
  },
  {
   "cell_type": "code",
   "execution_count": null,
   "id": "4f3a60ee-8a4f-44e4-849a-f675fb3a200f",
   "metadata": {},
   "outputs": [],
   "source": []
  },
  {
   "cell_type": "code",
   "execution_count": null,
   "id": "cf09d7c7-e642-43ab-8659-f31a54ec1249",
   "metadata": {},
   "outputs": [],
   "source": [
    "#tokenize function"
   ]
  },
  {
   "cell_type": "code",
   "execution_count": null,
   "id": "ea6a3ee9-aba3-403c-87c1-509b8b2e2af3",
   "metadata": {},
   "outputs": [],
   "source": [
    "def preprocess_function(examples):\n",
    "    inputs = [\n",
    "        f\"Question: {q} Options: A. {a} B. {b} C. {c} D. {d} Explanation: {exp} Answer: {chr(64 + int(cop))}\"\n",
    "        for q, a, b, c, d, exp, cop in zip(\n",
    "            examples[\"question\"], \n",
    "            examples[\"opa\"], \n",
    "            examples[\"opb\"], \n",
    "            examples[\"opc\"], \n",
    "            examples[\"opd\"],\n",
    "            examples[\"exp\"],\n",
    "            examples[\"cop\"]\n",
    "        )\n",
    "    ]\n",
    "    model_inputs = tokenizer(inputs, truncation=True, padding=\"max_length\", max_length=512)\n",
    "    model_inputs[\"labels\"] = model_inputs[\"input_ids\"].copy()\n",
    "    return model_inputs"
   ]
  },
  {
   "cell_type": "code",
   "execution_count": null,
   "id": "01dc87d0-118a-4ce5-b5bc-c15a09a56ee8",
   "metadata": {},
   "outputs": [],
   "source": [
    "tokenized_dataset_train = datasetTrain.map(preprocess_function, batched=True)"
   ]
  },
  {
   "cell_type": "code",
   "execution_count": null,
   "id": "54b33d21-4992-4a45-bdfe-39a2bd6ac615",
   "metadata": {},
   "outputs": [],
   "source": [
    "# Tokenize and prepare the dataset\n",
    "tokenized_dataset_validate = datasetValidate.map(preprocess_function, batched=True)\n"
   ]
  },
  {
   "cell_type": "code",
   "execution_count": null,
   "id": "c39c1842-4297-4185-8b2f-1d70405a310f",
   "metadata": {},
   "outputs": [],
   "source": [
    "# Tokenize and prepare the dataset\n",
    "tokenized_dataset_test = datasetTest.map(preprocess_function, batched=True)\n",
    "\n",
    "print(tokenized_dataset_test)"
   ]
  },
  {
   "cell_type": "code",
   "execution_count": null,
   "id": "61fe69f1-7f85-45fd-a73c-9b01ca7af2d4",
   "metadata": {},
   "outputs": [],
   "source": [
    "train_dataset = tokenized_dataset_train\n",
    "val_dataset = tokenized_dataset_validate\n",
    "\n"
   ]
  },
  {
   "cell_type": "code",
   "execution_count": null,
   "id": "4e3a0153-b7c1-408c-a906-26f07dd18dae",
   "metadata": {},
   "outputs": [],
   "source": [
    "# Ensure that all datasets are tokenized properly and have the labels\n",
    "train_dataset.set_format(type=\"torch\", columns=[\"input_ids\", \"attention_mask\", \"labels\"])\n",
    "val_dataset.set_format(type=\"torch\", columns=[\"input_ids\", \"attention_mask\", \"labels\"])"
   ]
  },
  {
   "cell_type": "code",
   "execution_count": null,
   "id": "f326bc38-762c-4371-a6fe-61647dedbb01",
   "metadata": {},
   "outputs": [],
   "source": [
    "from transformers import AutoModelForCausalLM, AutoTokenizer, Trainer, TrainingArguments\n",
    "from datasets import load_dataset\n",
    "import torch\n",
    "import logging\n",
    "\n",
    "training_args = TrainingArguments(\n",
    "    output_dir=\"./results\",\n",
    "    eval_steps=500,\n",
    "    logging_dir=\"./logs\",\n",
    "    logging_steps=10,\n",
    "    learning_rate=2e-5,\n",
    "    per_device_train_batch_size=8,\n",
    "    per_device_eval_batch_size=8,\n",
    "    num_train_epochs=3,\n",
    "    weight_decay=0.01,\n",
    "    disable_tqdm=False,\n",
    "    report_to=\"none\"\n",
    ")"
   ]
  },
  {
   "cell_type": "code",
   "execution_count": null,
   "id": "f2bc3891-f367-41d8-8ff4-a98b7f974988",
   "metadata": {},
   "outputs": [],
   "source": [
    "trainer = Trainer(\n",
    "    model=model,  # your loaded/initialized model\n",
    "    args=training_args,\n",
    "    train_dataset=train_dataset,\n",
    "    eval_dataset=val_dataset,\n",
    "    processing_class=tokenizer  # if you're using one\n",
    ")"
   ]
  },
  {
   "cell_type": "code",
   "execution_count": null,
   "id": "38ba5e38-8296-48b6-9220-4bd63816160e",
   "metadata": {},
   "outputs": [],
   "source": [
    "print(\"Starting trainer...\")\n",
    "trainer.train()\n",
    "print(\"Training complete.\")"
   ]
  },
  {
   "cell_type": "code",
   "execution_count": null,
   "id": "50a0e2f8-009a-48d2-9008-28bcb4c49e46",
   "metadata": {},
   "outputs": [],
   "source": []
  }
 ],
 "metadata": {
  "kernelspec": {
   "display_name": "Python 3 (ipykernel)",
   "language": "python",
   "name": "python3"
  },
  "language_info": {
   "codemirror_mode": {
    "name": "ipython",
    "version": 3
   },
   "file_extension": ".py",
   "mimetype": "text/x-python",
   "name": "python",
   "nbconvert_exporter": "python",
   "pygments_lexer": "ipython3",
   "version": "3.13.2"
  }
 },
 "nbformat": 4,
 "nbformat_minor": 5
}
